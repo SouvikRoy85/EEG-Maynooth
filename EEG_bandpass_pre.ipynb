{
 "cells": [
  {
   "cell_type": "code",
   "execution_count": 1,
   "metadata": {
    "collapsed": false
   },
   "outputs": [
    {
     "ename": "ImportError",
     "evalue": "No module named 'mne'",
     "output_type": "error",
     "traceback": [
      "\u001b[1;31m---------------------------------------------------------------------------\u001b[0m",
      "\u001b[1;31mImportError\u001b[0m                               Traceback (most recent call last)",
      "\u001b[1;32m<ipython-input-1-39fc8b1a8697>\u001b[0m in \u001b[0;36m<module>\u001b[1;34m()\u001b[0m\n\u001b[1;32m----> 1\u001b[1;33m \u001b[1;32mimport\u001b[0m \u001b[0mmne\u001b[0m\u001b[1;33m\u001b[0m\u001b[0m\n\u001b[0m",
      "\u001b[1;31mImportError\u001b[0m: No module named 'mne'"
     ]
    }
   ],
   "source": [
    "import mne"
   ]
  },
  {
   "cell_type": "code",
   "execution_count": 3,
   "metadata": {
    "collapsed": false
   },
   "outputs": [
    {
     "name": "stdout",
     "output_type": "stream",
     "text": [
      "Searching for mne\n",
      "Best match: mne 0.12.0\n",
      "Processing mne-0.12.0-py3.5.egg\n",
      "mne 0.12.0 is already the active version in easy-install.pth\n",
      "Installing mne script to C:\\Users\\Samsung\\Anaconda3\\Scripts\n",
      "\n",
      "Using c:\\users\\samsung\\anaconda3\\lib\\site-packages\\mne-0.12.0-py3.5.egg\n",
      "Processing dependencies for mne\n",
      "Finished processing dependencies for mne\n"
     ]
    },
    {
     "name": "stderr",
     "output_type": "stream",
     "text": [
      "error: Not a URL, existing file, or requirement spec: '--upgrade'\n"
     ]
    }
   ],
   "source": [
    "!easy_install mne --upgrade"
   ]
  },
  {
   "cell_type": "code",
   "execution_count": 4,
   "metadata": {
    "collapsed": false
   },
   "outputs": [
    {
     "ename": "ImportError",
     "evalue": "No module named 'mne'",
     "output_type": "error",
     "traceback": [
      "\u001b[1;31m---------------------------------------------------------------------------\u001b[0m",
      "\u001b[1;31mImportError\u001b[0m                               Traceback (most recent call last)",
      "\u001b[1;32m<ipython-input-4-39fc8b1a8697>\u001b[0m in \u001b[0;36m<module>\u001b[1;34m()\u001b[0m\n\u001b[1;32m----> 1\u001b[1;33m \u001b[1;32mimport\u001b[0m \u001b[0mmne\u001b[0m\u001b[1;33m\u001b[0m\u001b[0m\n\u001b[0m",
      "\u001b[1;31mImportError\u001b[0m: No module named 'mne'"
     ]
    }
   ],
   "source": [
    "import mne"
   ]
  },
  {
   "cell_type": "code",
   "execution_count": 6,
   "metadata": {
    "collapsed": true
   },
   "outputs": [],
   "source": [
    "%matplotlib inline\n",
    "import numpy as np"
   ]
  },
  {
   "cell_type": "markdown",
   "metadata": {},
   "source": [
    "mne.set_log_level('WARNING')"
   ]
  },
  {
   "cell_type": "code",
   "execution_count": 5,
   "metadata": {
    "collapsed": false
   },
   "outputs": [],
   "source": [
    "import os\n",
    "import mne\n",
    "import time\n",
    "import numpy as np\n",
    "from IPython import display\n",
    "import matplotlib.pyplot as plt\n",
    "from pylsl import StreamInlet, resolve_stream\n"
   ]
  },
  {
   "cell_type": "code",
   "execution_count": null,
   "metadata": {
    "collapsed": false
   },
   "outputs": [
    {
     "data": {
      "image/png": "[encoded data removed]",
      "text/plain": [
       "<matplotlib.figure.Figure at 0x21543baf9b0>"
      ]
     },
     "metadata": {},
     "output_type": "display_data"
    },
    {
     "name": "stdout",
     "output_type": "stream",
     "text": [
      "Creating RawArray with float64 data, n_channels=8, n_times=2500\n",
      "    Range : 0 ... 2499 =      0.000 ...     4.998 secs\n",
      "Ready.\n"
     ]
    }
   ],
   "source": [
    "import os\n",
    "import mne\n",
    "import time\n",
    "import numpy as np\n",
    "from IPython import display\n",
    "import matplotlib.pyplot as plt\n",
    "from pylsl import StreamInlet, resolve_stream\n",
    "\n",
    "plt.ion() # enable interactivity\n",
    "fig=plt.figure() # make a figure\n",
    "display.display(fig)\n",
    "        \n",
    "%matplotlib inline\n",
    "\n",
    "streams = resolve_stream('type', 'EEG')\n",
    "inlet = StreamInlet(streams[0])\n",
    "\n",
    "sfreq = 500  # Sampling frequency\n",
    "window_size=5\n",
    "scalings = {'eeg': 1}\n",
    "ch_types = [ 'eeg']*8\n",
    "ch_names = ['ch1', 'ch2', 'ch3', 'ch4','ch5', 'ch6', 'ch7', 'ch8']\n",
    "info = mne.create_info(ch_names=ch_names, sfreq=sfreq, ch_types=ch_types)\n",
    "\n",
    "data=[]\n",
    "data1=[]\n",
    "\n",
    "i=0\n",
    "while True:\n",
    "    sample, timestamp = inlet.pull_sample()\n",
    "    #tmp= map(int, line.split()[0:-2])\n",
    "    data.append(sample)\n",
    "    i=i+1\n",
    "    #print(i)\n",
    "    if i>window_size*sfreq and i%100==0 :\n",
    "        if np.array(data).shape[0]>window_size*(sfreq):\n",
    "            data=data[-window_size*sfreq:]\n",
    "        raw = mne.io.RawArray(np.array(data).T, info)\n",
    "        display.clear_output(wait=True)\n",
    "        raw.plot(start=(raw.n_times/sfreq)-window_size,duration=window_size,n_channels=8, scalings=dict( eeg=1e2), \n",
    "                 title='Filtered Data',show=True,highpass=8,lowpass=12)"
   ]
  },
  {
   "cell_type": "code",
   "execution_count": null,
   "metadata": {
    "collapsed": false
   },
   "outputs": [],
   "source": [
    "\n"
   ]
  },
  {
   "cell_type": "code",
   "execution_count": null,
   "metadata": {
    "collapsed": true
   },
   "outputs": [],
   "source": []
  }
 ],
 "metadata": {
  "anaconda-cloud": {},
  "kernelspec": {
   "display_name": "Python [Root]",
   "language": "python",
   "name": "Python [Root]"
  },
  "language_info": {
   "codemirror_mode": {
    "name": "ipython",
    "version": 3
   },
   "file_extension": ".py",
   "mimetype": "text/x-python",
   "name": "python",
   "nbconvert_exporter": "python",
   "pygments_lexer": "ipython3",
   "version": "3.5.2"
  }
 },
 "nbformat": 4,
 "nbformat_minor": 0
}
